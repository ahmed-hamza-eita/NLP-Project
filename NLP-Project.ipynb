{
 "cells": [
  {
   "cell_type": "code",
   "execution_count": 38,
   "id": "413afdda",
   "metadata": {},
   "outputs": [],
   "source": [
    "import pandas as pd\n",
    "import nltk\n",
    "from nltk.tokenize import sent_tokenize\n",
    "import re\n",
    "from nltk.corpus import stopwords\n",
    "import string\n",
    "from nltk.tokenize import word_tokenize\n",
    "from nltk.stem import PorterStemmer\n",
    "from nltk.stem import WordNetLemmatizer"
   ]
  },
  {
   "cell_type": "code",
   "execution_count": 24,
   "id": "382238dc",
   "metadata": {},
   "outputs": [],
   "source": [
    "fakeData = pd.read_csv('Fake.csv')\n",
    "trueData = pd.read_csv('True.csv')"
   ]
  },
  {
   "cell_type": "code",
   "execution_count": 26,
   "id": "d3206913",
   "metadata": {},
   "outputs": [],
   "source": [
    "dataMerge = pd.concat([fakeData, trueData], axis=0)"
   ]
  },
  {
   "cell_type": "code",
   "execution_count": 27,
   "id": "25ed424f",
   "metadata": {},
   "outputs": [
    {
     "data": {
      "text/html": [
       "<div>\n",
       "<style scoped>\n",
       "    .dataframe tbody tr th:only-of-type {\n",
       "        vertical-align: middle;\n",
       "    }\n",
       "\n",
       "    .dataframe tbody tr th {\n",
       "        vertical-align: top;\n",
       "    }\n",
       "\n",
       "    .dataframe thead th {\n",
       "        text-align: right;\n",
       "    }\n",
       "</style>\n",
       "<table border=\"1\" class=\"dataframe\">\n",
       "  <thead>\n",
       "    <tr style=\"text-align: right;\">\n",
       "      <th></th>\n",
       "      <th>title</th>\n",
       "      <th>text</th>\n",
       "      <th>subject</th>\n",
       "      <th>date</th>\n",
       "    </tr>\n",
       "  </thead>\n",
       "  <tbody>\n",
       "    <tr>\n",
       "      <th>0</th>\n",
       "      <td>Donald Trump Sends Out Embarrassing New Year’...</td>\n",
       "      <td>Donald Trump just couldn t wish all Americans ...</td>\n",
       "      <td>News</td>\n",
       "      <td>December 31, 2017</td>\n",
       "    </tr>\n",
       "    <tr>\n",
       "      <th>1</th>\n",
       "      <td>Drunk Bragging Trump Staffer Started Russian ...</td>\n",
       "      <td>House Intelligence Committee Chairman Devin Nu...</td>\n",
       "      <td>News</td>\n",
       "      <td>December 31, 2017</td>\n",
       "    </tr>\n",
       "    <tr>\n",
       "      <th>2</th>\n",
       "      <td>Sheriff David Clarke Becomes An Internet Joke...</td>\n",
       "      <td>On Friday, it was revealed that former Milwauk...</td>\n",
       "      <td>News</td>\n",
       "      <td>December 30, 2017</td>\n",
       "    </tr>\n",
       "    <tr>\n",
       "      <th>3</th>\n",
       "      <td>Trump Is So Obsessed He Even Has Obama’s Name...</td>\n",
       "      <td>On Christmas day, Donald Trump announced that ...</td>\n",
       "      <td>News</td>\n",
       "      <td>December 29, 2017</td>\n",
       "    </tr>\n",
       "    <tr>\n",
       "      <th>4</th>\n",
       "      <td>Pope Francis Just Called Out Donald Trump Dur...</td>\n",
       "      <td>Pope Francis used his annual Christmas Day mes...</td>\n",
       "      <td>News</td>\n",
       "      <td>December 25, 2017</td>\n",
       "    </tr>\n",
       "    <tr>\n",
       "      <th>...</th>\n",
       "      <td>...</td>\n",
       "      <td>...</td>\n",
       "      <td>...</td>\n",
       "      <td>...</td>\n",
       "    </tr>\n",
       "    <tr>\n",
       "      <th>21412</th>\n",
       "      <td>'Fully committed' NATO backs new U.S. approach...</td>\n",
       "      <td>BRUSSELS (Reuters) - NATO allies on Tuesday we...</td>\n",
       "      <td>worldnews</td>\n",
       "      <td>August 22, 2017</td>\n",
       "    </tr>\n",
       "    <tr>\n",
       "      <th>21413</th>\n",
       "      <td>LexisNexis withdrew two products from Chinese ...</td>\n",
       "      <td>LONDON (Reuters) - LexisNexis, a provider of l...</td>\n",
       "      <td>worldnews</td>\n",
       "      <td>August 22, 2017</td>\n",
       "    </tr>\n",
       "    <tr>\n",
       "      <th>21414</th>\n",
       "      <td>Minsk cultural hub becomes haven from authorities</td>\n",
       "      <td>MINSK (Reuters) - In the shadow of disused Sov...</td>\n",
       "      <td>worldnews</td>\n",
       "      <td>August 22, 2017</td>\n",
       "    </tr>\n",
       "    <tr>\n",
       "      <th>21415</th>\n",
       "      <td>Vatican upbeat on possibility of Pope Francis ...</td>\n",
       "      <td>MOSCOW (Reuters) - Vatican Secretary of State ...</td>\n",
       "      <td>worldnews</td>\n",
       "      <td>August 22, 2017</td>\n",
       "    </tr>\n",
       "    <tr>\n",
       "      <th>21416</th>\n",
       "      <td>Indonesia to buy $1.14 billion worth of Russia...</td>\n",
       "      <td>JAKARTA (Reuters) - Indonesia will buy 11 Sukh...</td>\n",
       "      <td>worldnews</td>\n",
       "      <td>August 22, 2017</td>\n",
       "    </tr>\n",
       "  </tbody>\n",
       "</table>\n",
       "<p>44898 rows × 4 columns</p>\n",
       "</div>"
      ],
      "text/plain": [
       "                                                   title  \\\n",
       "0       Donald Trump Sends Out Embarrassing New Year’...   \n",
       "1       Drunk Bragging Trump Staffer Started Russian ...   \n",
       "2       Sheriff David Clarke Becomes An Internet Joke...   \n",
       "3       Trump Is So Obsessed He Even Has Obama’s Name...   \n",
       "4       Pope Francis Just Called Out Donald Trump Dur...   \n",
       "...                                                  ...   \n",
       "21412  'Fully committed' NATO backs new U.S. approach...   \n",
       "21413  LexisNexis withdrew two products from Chinese ...   \n",
       "21414  Minsk cultural hub becomes haven from authorities   \n",
       "21415  Vatican upbeat on possibility of Pope Francis ...   \n",
       "21416  Indonesia to buy $1.14 billion worth of Russia...   \n",
       "\n",
       "                                                    text    subject  \\\n",
       "0      Donald Trump just couldn t wish all Americans ...       News   \n",
       "1      House Intelligence Committee Chairman Devin Nu...       News   \n",
       "2      On Friday, it was revealed that former Milwauk...       News   \n",
       "3      On Christmas day, Donald Trump announced that ...       News   \n",
       "4      Pope Francis used his annual Christmas Day mes...       News   \n",
       "...                                                  ...        ...   \n",
       "21412  BRUSSELS (Reuters) - NATO allies on Tuesday we...  worldnews   \n",
       "21413  LONDON (Reuters) - LexisNexis, a provider of l...  worldnews   \n",
       "21414  MINSK (Reuters) - In the shadow of disused Sov...  worldnews   \n",
       "21415  MOSCOW (Reuters) - Vatican Secretary of State ...  worldnews   \n",
       "21416  JAKARTA (Reuters) - Indonesia will buy 11 Sukh...  worldnews   \n",
       "\n",
       "                    date  \n",
       "0      December 31, 2017  \n",
       "1      December 31, 2017  \n",
       "2      December 30, 2017  \n",
       "3      December 29, 2017  \n",
       "4      December 25, 2017  \n",
       "...                  ...  \n",
       "21412   August 22, 2017   \n",
       "21413   August 22, 2017   \n",
       "21414   August 22, 2017   \n",
       "21415   August 22, 2017   \n",
       "21416   August 22, 2017   \n",
       "\n",
       "[44898 rows x 4 columns]"
      ]
     },
     "execution_count": 27,
     "metadata": {},
     "output_type": "execute_result"
    }
   ],
   "source": [
    "dataMerge"
   ]
  },
  {
   "cell_type": "code",
   "execution_count": 28,
   "id": "1dee616f",
   "metadata": {},
   "outputs": [],
   "source": [
    "data = dataMerge.drop(['title', 'subject', 'date'], axis=1)\n",
    "data=data.sample(frac=1)"
   ]
  },
  {
   "cell_type": "code",
   "execution_count": 29,
   "id": "eb5a9d40",
   "metadata": {},
   "outputs": [
    {
     "data": {
      "text/html": [
       "<div>\n",
       "<style scoped>\n",
       "    .dataframe tbody tr th:only-of-type {\n",
       "        vertical-align: middle;\n",
       "    }\n",
       "\n",
       "    .dataframe tbody tr th {\n",
       "        vertical-align: top;\n",
       "    }\n",
       "\n",
       "    .dataframe thead th {\n",
       "        text-align: right;\n",
       "    }\n",
       "</style>\n",
       "<table border=\"1\" class=\"dataframe\">\n",
       "  <thead>\n",
       "    <tr style=\"text-align: right;\">\n",
       "      <th></th>\n",
       "      <th>text</th>\n",
       "    </tr>\n",
       "  </thead>\n",
       "  <tbody>\n",
       "    <tr>\n",
       "      <th>8684</th>\n",
       "      <td>CLEVELAND (Reuters) - Republican presidential ...</td>\n",
       "    </tr>\n",
       "    <tr>\n",
       "      <th>1909</th>\n",
       "      <td>Republicans are desperately trying to convince...</td>\n",
       "    </tr>\n",
       "    <tr>\n",
       "      <th>4183</th>\n",
       "      <td>WASHINGTON (Reuters) - President Donald Trump’...</td>\n",
       "    </tr>\n",
       "    <tr>\n",
       "      <th>1183</th>\n",
       "      <td>Donald Trump has made quite the fuss about tap...</td>\n",
       "    </tr>\n",
       "    <tr>\n",
       "      <th>14215</th>\n",
       "      <td>Ahhh Mooch The perpetual victim. Never mind th...</td>\n",
       "    </tr>\n",
       "    <tr>\n",
       "      <th>...</th>\n",
       "      <td>...</td>\n",
       "    </tr>\n",
       "    <tr>\n",
       "      <th>12148</th>\n",
       "      <td>WASHINGTON (Reuters) - U.S. Defense Secretary ...</td>\n",
       "    </tr>\n",
       "    <tr>\n",
       "      <th>3933</th>\n",
       "      <td>A Trump supporter in Loudoun County, Virginia,...</td>\n",
       "    </tr>\n",
       "    <tr>\n",
       "      <th>8859</th>\n",
       "      <td>(Reuters) - Democratic presidential contender ...</td>\n",
       "    </tr>\n",
       "    <tr>\n",
       "      <th>9271</th>\n",
       "      <td>THANK GOODNESS FOR JUDICIAL WATCH! They pushed...</td>\n",
       "    </tr>\n",
       "    <tr>\n",
       "      <th>6624</th>\n",
       "      <td>Since the beginning of Donald Trump s campaign...</td>\n",
       "    </tr>\n",
       "  </tbody>\n",
       "</table>\n",
       "<p>44898 rows × 1 columns</p>\n",
       "</div>"
      ],
      "text/plain": [
       "                                                    text\n",
       "8684   CLEVELAND (Reuters) - Republican presidential ...\n",
       "1909   Republicans are desperately trying to convince...\n",
       "4183   WASHINGTON (Reuters) - President Donald Trump’...\n",
       "1183   Donald Trump has made quite the fuss about tap...\n",
       "14215  Ahhh Mooch The perpetual victim. Never mind th...\n",
       "...                                                  ...\n",
       "12148  WASHINGTON (Reuters) - U.S. Defense Secretary ...\n",
       "3933   A Trump supporter in Loudoun County, Virginia,...\n",
       "8859   (Reuters) - Democratic presidential contender ...\n",
       "9271   THANK GOODNESS FOR JUDICIAL WATCH! They pushed...\n",
       "6624   Since the beginning of Donald Trump s campaign...\n",
       "\n",
       "[44898 rows x 1 columns]"
      ]
     },
     "execution_count": 29,
     "metadata": {},
     "output_type": "execute_result"
    }
   ],
   "source": [
    "data"
   ]
  },
  {
   "cell_type": "code",
   "execution_count": 49,
   "id": "8f368ab9",
   "metadata": {},
   "outputs": [],
   "source": [
    "output_file = 'Before.txt' \n",
    "with open(output_file, 'w') as file:\n",
    "    for text in data['text']:\n",
    "        file.write(str(text) + '\\n')"
   ]
  },
  {
   "cell_type": "code",
   "execution_count": 39,
   "id": "11d5c648",
   "metadata": {
    "scrolled": true
   },
   "outputs": [
    {
     "data": {
      "text/html": [
       "<div>\n",
       "<style scoped>\n",
       "    .dataframe tbody tr th:only-of-type {\n",
       "        vertical-align: middle;\n",
       "    }\n",
       "\n",
       "    .dataframe tbody tr th {\n",
       "        vertical-align: top;\n",
       "    }\n",
       "\n",
       "    .dataframe thead th {\n",
       "        text-align: right;\n",
       "    }\n",
       "</style>\n",
       "<table border=\"1\" class=\"dataframe\">\n",
       "  <thead>\n",
       "    <tr style=\"text-align: right;\">\n",
       "      <th></th>\n",
       "      <th>text</th>\n",
       "    </tr>\n",
       "  </thead>\n",
       "  <tbody>\n",
       "    <tr>\n",
       "      <th>0</th>\n",
       "      <td>cleveland reuters republican presidential cand...</td>\n",
       "    </tr>\n",
       "    <tr>\n",
       "      <th>1</th>\n",
       "      <td>republicans desperately try convince everyone ...</td>\n",
       "    </tr>\n",
       "    <tr>\n",
       "      <th>2</th>\n",
       "      <td>washington reuters president donald trump choi...</td>\n",
       "    </tr>\n",
       "    <tr>\n",
       "      <th>3</th>\n",
       "      <td>donald trump make quite fuss tap conversations...</td>\n",
       "    </tr>\n",
       "    <tr>\n",
       "      <th>4</th>\n",
       "      <td>ahhh mooch perpetual victim never mind million...</td>\n",
       "    </tr>\n",
       "  </tbody>\n",
       "</table>\n",
       "</div>"
      ],
      "text/plain": [
       "                                                text\n",
       "0  cleveland reuters republican presidential cand...\n",
       "1  republicans desperately try convince everyone ...\n",
       "2  washington reuters president donald trump choi...\n",
       "3  donald trump make quite fuss tap conversations...\n",
       "4  ahhh mooch perpetual victim never mind million..."
      ]
     },
     "execution_count": 39,
     "metadata": {},
     "output_type": "execute_result"
    }
   ],
   "source": [
    "data.head()"
   ]
  },
  {
   "cell_type": "code",
   "execution_count": 40,
   "id": "754d006c",
   "metadata": {},
   "outputs": [],
   "source": [
    "stemmer = PorterStemmer()\n",
    "lemmatizer = WordNetLemmatizer()"
   ]
  },
  {
   "cell_type": "code",
   "execution_count": 50,
   "id": "5cf3aacb",
   "metadata": {},
   "outputs": [],
   "source": [
    "# def wordopt(text):\n",
    "#     text = text.lower()\n",
    "#     text = re.sub('\\[.*?\\]', '', text)\n",
    "#     text = re.sub(\"\\\\W\", \" \", text)\n",
    "#     text = re.sub('https?://\\S+|www\\.\\S+', '', text)\n",
    "#     text = re.sub('<.*?>', '', text)\n",
    "#     text = re.sub('[%s]' % re.escape(string.punctuation), '', text)\n",
    "#     text = re.sub('\\n', '', text)\n",
    "#     text = re.sub('\\w*\\d\\w*', '', text) \n",
    "#     tokenized_text = re.split(r'\\s+', text)\n",
    "    \n",
    "#     stop_words = set(stopwords.words('english'))\n",
    "#     filtered_text = [word for word in tokenized_text if word.lower() not in stop_words]\n",
    "#     text = ' '.join(filtered_text)\n",
    "    \n",
    "#     filtered_text = [stemmer.stem(word) for word in tokenized_text if word.lower() not in stop_words]\n",
    "#     text = ' '.join(filtered_text)\n",
    "    \n",
    "#     filtered_text = [lemmatizer.lemmatize(word, pos='v') for word in tokenized_text if word.lower() not in stop_words]\n",
    "#     text = ' '.join(filtered_text)\n",
    "#     return text"
   ]
  },
  {
   "cell_type": "code",
   "execution_count": null,
   "id": "8d8e5a65",
   "metadata": {},
   "outputs": [],
   "source": [
    "# data['text'] = data['text'].apply(wordopt)"
   ]
  },
  {
   "cell_type": "code",
   "execution_count": 56,
   "id": "2b71907e",
   "metadata": {},
   "outputs": [],
   "source": [
    "def wordopt(text):\n",
    "    text = text.lower()\n",
    "    text = re.sub('\\[.*?\\]', '', text)\n",
    "    text = re.sub(\"\\\\W\", \" \", text)\n",
    "    text = re.sub('https?://\\S+|www\\.\\S+', '', text)\n",
    "    text = re.sub('<.*?>', '', text)\n",
    "    text = re.sub('[%s]' % re.escape(string.punctuation), '', text)\n",
    "    text = re.sub('\\n', '', text)\n",
    "    text = re.sub('\\w*\\d\\w*', '', text) \n",
    "    tokenized_text = word_tokenize(text)\n",
    "    \n",
    "    stop_words = set(stopwords.words('english'))\n",
    "    \n",
    "    # Remove stop words\n",
    "    filtered_text = [word for word in tokenized_text if word.lower() not in stop_words]\n",
    "    text_no_stopwords = ' '.join(filtered_text)\n",
    "    \n",
    "    # Apply stemming\n",
    "    stemmed_text = [stemmer.stem(word) for word in tokenized_text]\n",
    "    text_stemmed = ' '.join(stemmed_text)\n",
    "    \n",
    "    # Apply lemmatization for verbs ('v')\n",
    "    lemmatized_text = [lemmatizer.lemmatize(word, pos='v') for word in tokenized_text]\n",
    "    text_lemmatized = ' '.join(lemmatized_text)\n",
    "    \n",
    "    return {\n",
    "        \"text_no_stopwords\": text_no_stopwords,\n",
    "        \"text_stemmed\": text_stemmed,\n",
    "        \"text_lemmatized\": text_lemmatized\n",
    "    }"
   ]
  },
  {
   "cell_type": "code",
   "execution_count": 57,
   "id": "ba881730",
   "metadata": {},
   "outputs": [],
   "source": [
    "\n",
    "data['text_no_stopwords'] = data['text'].apply(lambda x: wordopt(x)['text_no_stopwords'])\n"
   ]
  },
  {
   "cell_type": "code",
   "execution_count": 58,
   "id": "f69a5b20",
   "metadata": {},
   "outputs": [
    {
     "data": {
      "text/plain": [
       "0        cleveland reuters republican presidential cand...\n",
       "1        republicans desperately try convince everyone ...\n",
       "2        washington reuters president donald trump choi...\n",
       "3        donald trump make quite fuss tap conversations...\n",
       "4        ahhh mooch perpetual victim never mind million...\n",
       "                               ...                        \n",
       "44893    washington reuters u defense secretary jim mat...\n",
       "44894    trump supporter loudoun county virginia spend ...\n",
       "44895    reuters democratic presidential contender hill...\n",
       "44896    thank goodness judicial watch push email doj g...\n",
       "44897    since begin donald trump campaign president co...\n",
       "Name: text_no_stopwords, Length: 44898, dtype: object"
      ]
     },
     "execution_count": 58,
     "metadata": {},
     "output_type": "execute_result"
    }
   ],
   "source": [
    "data['text_no_stopwords']"
   ]
  },
  {
   "cell_type": "code",
   "execution_count": 59,
   "id": "fa79b54b",
   "metadata": {},
   "outputs": [],
   "source": [
    "data['text_stemmed'] = data['text'].apply(lambda x: wordopt(x)['text_stemmed'])\n"
   ]
  },
  {
   "cell_type": "code",
   "execution_count": 60,
   "id": "82f23838",
   "metadata": {},
   "outputs": [
    {
     "data": {
      "text/plain": [
       "0        cleveland reuter republican presidenti candid ...\n",
       "1        republican desper tri convinc everyon merrick ...\n",
       "2        washington reuter presid donald trump choic de...\n",
       "3        donald trump make quit fuss tap convers former...\n",
       "4        ahhh mooch perpetu victim never mind million a...\n",
       "                               ...                        \n",
       "44893    washington reuter u defens secretari jim matti...\n",
       "44894    trump support loudoun counti virginia spend fr...\n",
       "44895    reuter democrat presidenti contend hillari cli...\n",
       "44896    thank good judici watch push email doj get tre...\n",
       "44897    sinc begin donald trump campaign presid corner...\n",
       "Name: text_stemmed, Length: 44898, dtype: object"
      ]
     },
     "execution_count": 60,
     "metadata": {},
     "output_type": "execute_result"
    }
   ],
   "source": [
    "data['text_stemmed'] "
   ]
  },
  {
   "cell_type": "code",
   "execution_count": 61,
   "id": "ed6ede8a",
   "metadata": {},
   "outputs": [],
   "source": [
    "data['text_lemmatized'] = data['text'].apply(lambda x: wordopt(x)['text_lemmatized'])\n"
   ]
  },
  {
   "cell_type": "code",
   "execution_count": 62,
   "id": "039c8bb5",
   "metadata": {},
   "outputs": [
    {
     "data": {
      "text/plain": [
       "0        cleveland reuters republican presidential cand...\n",
       "1        republicans desperately try convince everyone ...\n",
       "2        washington reuters president donald trump choi...\n",
       "3        donald trump make quite fuss tap conversations...\n",
       "4        ahhh mooch perpetual victim never mind million...\n",
       "                               ...                        \n",
       "44893    washington reuters u defense secretary jim mat...\n",
       "44894    trump supporter loudoun county virginia spend ...\n",
       "44895    reuters democratic presidential contender hill...\n",
       "44896    thank goodness judicial watch push email doj g...\n",
       "44897    since begin donald trump campaign president co...\n",
       "Name: text_lemmatized, Length: 44898, dtype: object"
      ]
     },
     "execution_count": 62,
     "metadata": {},
     "output_type": "execute_result"
    }
   ],
   "source": [
    " data['text_lemmatized']"
   ]
  },
  {
   "cell_type": "code",
   "execution_count": 64,
   "id": "722c2e3b",
   "metadata": {},
   "outputs": [],
   "source": [
    "text_stemmed = 'text_stemmed.txt' \n",
    "with open(output_file, 'w') as file:\n",
    "    for text in data['text_stemmed']:\n",
    "        file.write(str(text) + '\\n')\n",
    "        \n",
    "        \n",
    "text_lemmatized = 'text_lemmatized.txt' \n",
    "with open(output_file, 'w') as file:\n",
    "    for text in data['text_lemmatized']:\n",
    "        file.write(str(text) + '\\n')        "
   ]
  },
  {
   "cell_type": "code",
   "execution_count": 55,
   "id": "4d18f311",
   "metadata": {},
   "outputs": [],
   "source": []
  },
  {
   "cell_type": "code",
   "execution_count": null,
   "id": "4acba9c0",
   "metadata": {},
   "outputs": [],
   "source": []
  },
  {
   "cell_type": "code",
   "execution_count": null,
   "id": "a9a3d26d",
   "metadata": {},
   "outputs": [],
   "source": []
  }
 ],
 "metadata": {
  "kernelspec": {
   "display_name": "Python 3 (ipykernel)",
   "language": "python",
   "name": "python3"
  },
  "language_info": {
   "codemirror_mode": {
    "name": "ipython",
    "version": 3
   },
   "file_extension": ".py",
   "mimetype": "text/x-python",
   "name": "python",
   "nbconvert_exporter": "python",
   "pygments_lexer": "ipython3",
   "version": "3.11.5"
  }
 },
 "nbformat": 4,
 "nbformat_minor": 5
}
